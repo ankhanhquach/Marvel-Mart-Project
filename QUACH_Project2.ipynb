{
 "cells": [
  {
   "cell_type": "markdown",
   "id": "657e4922-e034-4447-af50-2d0074cdb1fa",
   "metadata": {},
   "source": [
    "# Python Project - Marvel Mart Project \n",
    "# Khanh Quach\n",
    "# March 15th 2023"
   ]
  },
  {
   "cell_type": "markdown",
   "id": "511ebf9a-84ba-47e4-8c67-57a663df34c4",
   "metadata": {},
   "source": [
    "# The Report Questions "
   ]
  },
  {
   "cell_type": "markdown",
   "id": "43b3850e-f4fc-45cb-8f29-32f041ce947d",
   "metadata": {},
   "source": [
    "Outline: \n",
    "Part 1: Cleaning the Data\n",
    "\n",
    "Part 2: Exploratory Data Analysis with Reports & Visualization \n",
    "        \n",
    "        1. Country Rankings \n",
    "        2. Count of Sales Channels & Order Priorities \n",
    "        3. Profits by Item Type \n",
    "        4. Descriptive Statistics\n",
    "        \n",
    "Part 3: Cross-referencing the Data"
   ]
  },
  {
   "cell_type": "code",
   "execution_count": 237,
   "id": "58f707ca-58c7-4666-b0f9-554926cf18f8",
   "metadata": {},
   "outputs": [],
   "source": [
    "# Import tool to use \n",
    "import numpy as np\n",
    "import pandas as pd\n",
    "from pandas import DataFrame, Series\n",
    "import matplotlib.pyplot as plt\n",
    "from scipy.stats import pearsonr\n",
    "import csv\n",
    "#from __future__ import division\n",
    "pd.set_option('display.float_format', lambda x: '%.3f' % x) # converts all decimals to 3 numbers after decimal place\n",
    "import seaborn as sns\n",
    "sns.set(style='ticks', palette='Set2') \n",
    "%matplotlib inline\n",
    "import warnings\n",
    "warnings.filterwarnings('ignore')"
   ]
  },
  {
   "cell_type": "markdown",
   "id": "de53dc0a-7b2d-4447-ad12-45c2a4baa562",
   "metadata": {},
   "source": [
    "# Part 1: Cleaning the Data"
   ]
  },
  {
   "cell_type": "code",
   "execution_count": 238,
   "id": "58beab8f-2feb-4d59-b7ab-a5b3510f50fe",
   "metadata": {},
   "outputs": [
    {
     "name": "stdout",
     "output_type": "stream",
     "text": [
      "<class 'pandas.core.frame.DataFrame'>\n",
      "RangeIndex: 50000 entries, 0 to 49999\n",
      "Data columns (total 14 columns):\n",
      " #   Column          Non-Null Count  Dtype  \n",
      "---  ------          --------------  -----  \n",
      " 0   Region          50000 non-null  object \n",
      " 1   Country         50000 non-null  object \n",
      " 2   Item Type       49994 non-null  object \n",
      " 3   Sales Channel   50000 non-null  object \n",
      " 4   Order Priority  49985 non-null  object \n",
      " 5   Order Date      50000 non-null  object \n",
      " 6   Order ID        50000 non-null  object \n",
      " 7   Ship Date       50000 non-null  object \n",
      " 8   Units Sold      50000 non-null  int64  \n",
      " 9   Unit Price      50000 non-null  float64\n",
      " 10  Unit Cost       50000 non-null  float64\n",
      " 11  Total Revenue   50000 non-null  float64\n",
      " 12  Total Cost      50000 non-null  float64\n",
      " 13  Total Profit    50000 non-null  float64\n",
      "dtypes: float64(5), int64(1), object(8)\n",
      "memory usage: 5.3+ MB\n"
     ]
    }
   ],
   "source": [
    "# load the data \n",
    "mm_sales = pd.read_csv('Data/MM_Sales.csv')\n",
    "# From this we can see that Item Type and Order Priority are having missing data\n",
    "mm_sales.info()"
   ]
  },
  {
   "cell_type": "code",
   "execution_count": 239,
   "id": "6e0ff0fd-6f13-4710-995e-ca3a5b38dc33",
   "metadata": {},
   "outputs": [],
   "source": [
    "# Create a clean copy for our data frame. \n",
    "mm_salesClean = mm_sales.copy()"
   ]
  },
  {
   "cell_type": "code",
   "execution_count": 240,
   "id": "0a45b0c4-a456-4728-9601-192bc0f5a95a",
   "metadata": {},
   "outputs": [
    {
     "data": {
      "text/plain": [
       "Region             0\n",
       "Country            0\n",
       "Item Type          6\n",
       "Sales Channel      0\n",
       "Order Priority    15\n",
       "Order Date         0\n",
       "Order ID           0\n",
       "Ship Date          0\n",
       "Units Sold         0\n",
       "Unit Price         0\n",
       "Unit Cost          0\n",
       "Total Revenue      0\n",
       "Total Cost         0\n",
       "Total Profit       0\n",
       "dtype: int64"
      ]
     },
     "execution_count": 240,
     "metadata": {},
     "output_type": "execute_result"
    }
   ],
   "source": [
    "# Check for ALL MISSING Data in each individual column\n",
    "mm_sales.isna().sum()\n",
    "# from this we know that Order Priority and Item Type are having problem with thier data\n",
    "# they might be missing therefore the data can't work properly "
   ]
  },
  {
   "cell_type": "code",
   "execution_count": 241,
   "id": "999347f5-860d-4147-b28e-60ede3505d57",
   "metadata": {},
   "outputs": [],
   "source": [
    "mm_salesClean['Item Type'].fillna(\"NULL\", inplace = True) \n",
    "mm_salesClean['Order Priority'].fillna(\"NULL\", inplace = True)"
   ]
  },
  {
   "cell_type": "code",
   "execution_count": 242,
   "id": "4e7c5b9a-dc7f-47ca-a0b8-dfb6147fcdd2",
   "metadata": {},
   "outputs": [
    {
     "name": "stdout",
     "output_type": "stream",
     "text": [
      "\n",
      "Testing erronous data in Country\n",
      "NULL\n",
      "NULL\n",
      "NULL\n",
      "Number of erronous is 3\n"
     ]
    }
   ],
   "source": [
    "# check if there any data in Country which is not a string \n",
    "print(\"\\nTesting erronous data in Country\")\n",
    "count = 0\n",
    "for index, row in mm_salesClean.iterrows():\n",
    "    try:\n",
    "        # check whether the data things is missing or not. If exist it suppose to be a string       \n",
    "        row.loc['Country'] = float(row.loc['Country']) # convert to float type\n",
    "        mm_salesClean.loc[int(index), 'Country'] = \"NULL\" # if already format as float, replace it with NULL\n",
    "        print(mm_salesClean.loc[int(index), 'Country'])   # print to verify changes\n",
    "        count+=1\n",
    "    except: \n",
    "        1==1\n",
    "    \n",
    "print(\"Number of erronous is \" + str(count)) # find out the number of error data"
   ]
  },
  {
   "cell_type": "code",
   "execution_count": 243,
   "id": "5a1bbac9-6986-4431-b70c-ca536ea81b50",
   "metadata": {},
   "outputs": [
    {
     "name": "stdout",
     "output_type": "stream",
     "text": [
      "Cosmetics\n",
      "0\n",
      "Fruits\n",
      "0\n",
      "Snacks\n",
      "0\n",
      "Meat\n",
      "0\n",
      "Snacks\n",
      "0\n",
      "Number of erronous is 5\n"
     ]
    }
   ],
   "source": [
    "# check if there any data in Order ID which is not an interger or missing \n",
    "count = 0\n",
    "for index, row in mm_salesClean.iterrows(): \n",
    "    try:\n",
    "        row.loc['Order ID'] = int(row.loc['Order ID'])  \n",
    "    except:\n",
    "        print(row.loc['Order ID'])\n",
    "        mm_salesClean.loc[int(index), 'Order ID'] = 0\n",
    "        print(mm_salesClean.loc[int(index), 'Order ID'])\n",
    "        count += 1\n",
    "\n",
    "print(\"Number of erronous is \" + str(count)) # find out the number of error data"
   ]
  },
  {
   "cell_type": "code",
   "execution_count": 244,
   "id": "8a9ace3c-81e1-42d4-a16d-5364d50ea824",
   "metadata": {},
   "outputs": [],
   "source": [
    "# Remove all values that contain 9 or NULL in it.\n",
    "mm_salesClean = mm_salesClean[mm_salesClean['Country'] != \"NULL\"]\n",
    "mm_salesClean = mm_salesClean[mm_salesClean['Item Type'] != \"NULL\"]\n",
    "mm_salesClean = mm_salesClean[mm_salesClean['Order Priority'] != \"NULL\"]\n",
    "mm_salesClean = mm_salesClean[mm_salesClean['Order ID'] != 0]"
   ]
  },
  {
   "cell_type": "code",
   "execution_count": 245,
   "id": "d8476ad0-8be9-441e-a67a-885f189e5819",
   "metadata": {},
   "outputs": [
    {
     "name": "stdout",
     "output_type": "stream",
     "text": [
      "0\n",
      "0\n",
      "0\n",
      "0\n"
     ]
    }
   ],
   "source": [
    "# Print out to make sure that there are no data containing 0 or NULL.\n",
    "print(mm_salesClean['Country'][mm_salesClean['Country']=='NULL'].count()) \n",
    "print(mm_salesClean['Item Type'][mm_salesClean['Item Type']=='NULL'].count()) \n",
    "print(mm_salesClean['Order Priority'][mm_salesClean['Order Priority']=='NULL'].count()) \n",
    "print(mm_salesClean['Order ID'][mm_salesClean['Order ID']==0].count()) "
   ]
  },
  {
   "cell_type": "code",
   "execution_count": 246,
   "id": "92b81ced-d134-4e01-ae9c-88b33dabfa48",
   "metadata": {},
   "outputs": [
    {
     "data": {
      "text/plain": [
       "Region            0\n",
       "Country           0\n",
       "Item Type         0\n",
       "Sales Channel     0\n",
       "Order Priority    0\n",
       "Order Date        0\n",
       "Order ID          0\n",
       "Ship Date         0\n",
       "Units Sold        0\n",
       "Unit Price        0\n",
       "Unit Cost         0\n",
       "Total Revenue     0\n",
       "Total Cost        0\n",
       "Total Profit      0\n",
       "dtype: int64"
      ]
     },
     "execution_count": 246,
     "metadata": {},
     "output_type": "execute_result"
    }
   ],
   "source": [
    "mm_salesClean.isnull().sum() #check for missing values once again after clean the data"
   ]
  },
  {
   "cell_type": "code",
   "execution_count": 247,
   "id": "2e42ad45-14f1-460f-b7e3-3faffb0cf627",
   "metadata": {},
   "outputs": [],
   "source": [
    "# write it to a new csv file. Index = false to delete the first column we use to track \n",
    "mm_salesClean.to_csv(\"Data/MM_Sales_clean.csv\", index = False)"
   ]
  },
  {
   "cell_type": "code",
   "execution_count": 248,
   "id": "d9707b63-b45b-4f34-823a-61edffc0e7b9",
   "metadata": {},
   "outputs": [
    {
     "name": "stdout",
     "output_type": "stream",
     "text": [
      "<class 'pandas.core.frame.DataFrame'>\n",
      "Int64Index: 49971 entries, 0 to 49999\n",
      "Data columns (total 14 columns):\n",
      " #   Column          Non-Null Count  Dtype  \n",
      "---  ------          --------------  -----  \n",
      " 0   Region          49971 non-null  object \n",
      " 1   Country         49971 non-null  object \n",
      " 2   Item Type       49971 non-null  object \n",
      " 3   Sales Channel   49971 non-null  object \n",
      " 4   Order Priority  49971 non-null  object \n",
      " 5   Order Date      49971 non-null  object \n",
      " 6   Order ID        49971 non-null  object \n",
      " 7   Ship Date       49971 non-null  object \n",
      " 8   Units Sold      49971 non-null  int64  \n",
      " 9   Unit Price      49971 non-null  float64\n",
      " 10  Unit Cost       49971 non-null  float64\n",
      " 11  Total Revenue   49971 non-null  float64\n",
      " 12  Total Cost      49971 non-null  float64\n",
      " 13  Total Profit    49971 non-null  float64\n",
      "dtypes: float64(5), int64(1), object(8)\n",
      "memory usage: 5.7+ MB\n"
     ]
    }
   ],
   "source": [
    " #check the data type for each column once again to make sure it all match \n",
    "mm_salesClean.info() "
   ]
  },
  {
   "cell_type": "markdown",
   "id": "bf56144a-c90f-46b8-9b71-4016d7a54a32",
   "metadata": {},
   "source": [
    "# Part 2: Exploratory Data Analysis with Reports & Visualizations"
   ]
  },
  {
   "cell_type": "markdown",
   "id": "adb57de3-227d-4034-97d1-15d4d111c7a4",
   "metadata": {},
   "source": [
    "Question 1: \"We want to know which countries we sell the most so we can pick a new location to build a shipping center. Rank the Top 10 countries we sell to the most to least along with the number of sales we've had with that country.\" (note you are getting a count of the number of sale transactions here not the sum of the total sales)\n"
   ]
  },
  {
   "cell_type": "markdown",
   "id": "b0133d0e-d3ed-43a2-9ed0-8f0b63dc3c26",
   "metadata": {},
   "source": [
    "1. Use Seaborn or Mathplotlib to create a chart of your choice showing these top 10 values by country."
   ]
  },
  {
   "cell_type": "markdown",
   "id": "7ec54dbb-ec72-4c79-8d91-b29a72b02327",
   "metadata": {},
   "source": [
    "We have shipping centers in Trinidad and Tobago, Guinea, and Maldives right now. Which country should we build a shipping center in based on most sales and lack of shipping center? When I say most sales, I'm talking about the most sales transactions, not the most sales amount. A sales transaction is represented by a row. Please justify your reasoning.\n"
   ]
  },
  {
   "cell_type": "code",
   "execution_count": 249,
   "id": "db7ba478-00ee-4fb1-8542-d131033471bc",
   "metadata": {},
   "outputs": [],
   "source": [
    "# MMSales = df as we always note. Just change the name to make sure it make sense in this case\n",
    "MMSales = pd.read_csv('Data/MM_Sales_clean.csv')"
   ]
  },
  {
   "cell_type": "code",
   "execution_count": 250,
   "id": "b0547794-2dc1-4be1-aee7-558252c1ca1a",
   "metadata": {},
   "outputs": [
    {
     "name": "stdout",
     "output_type": "stream",
     "text": [
      "Region            49971\n",
      "Country           49971\n",
      "Item Type         49971\n",
      "Sales Channel     49971\n",
      "Order Priority    49971\n",
      "Order Date        49971\n",
      "Order ID          49971\n",
      "Ship Date         49971\n",
      "Units Sold        49971\n",
      "Unit Price        49971\n",
      "Unit Cost         49971\n",
      "Total Revenue     49971\n",
      "Total Cost        49971\n",
      "Total Profit      49971\n",
      "dtype: int64\n"
     ]
    }
   ],
   "source": [
    "# count the number once again to make sure all the data have the same amount of rows \n",
    "print(MMSales.count())"
   ]
  },
  {
   "cell_type": "markdown",
   "id": "095cb40c-1bd3-4e3c-af12-d7f53a458e5a",
   "metadata": {},
   "source": [
    "# 1.1"
   ]
  },
  {
   "cell_type": "markdown",
   "id": "d4df6ba1-3f75-478e-bb03-f5dccd54a67f",
   "metadata": {},
   "source": [
    "Q1.1/ Find the top 10. "
   ]
  },
  {
   "cell_type": "code",
   "execution_count": 251,
   "id": "28667fea-6318-45f5-ac21-9969979742e4",
   "metadata": {},
   "outputs": [
    {
     "name": "stdout",
     "output_type": "stream",
     "text": [
      "Trinidad and Tobago                 321\n",
      "Guinea                              318\n",
      "Cape Verde                          314\n",
      "Maldives                            311\n",
      "Finland                             310\n",
      "Democratic Republic of the Congo    308\n",
      "Samoa                               306\n",
      "Malta                               305\n",
      "China                               303\n",
      "South Sudan                         302\n",
      "Name: Country, dtype: int64\n"
     ]
    }
   ],
   "source": [
    "# We rank the top ten nations based on the number of sales transactions and display them in a bar graph.\n",
    "numberofSales = MMSales.Country.value_counts()\n",
    "top10Sales = numberofSales.nlargest(10, 'all')\n",
    "print(top10Sales)"
   ]
  },
  {
   "cell_type": "code",
   "execution_count": 252,
   "id": "2064e290-384a-493a-8b12-3e42c0236eb6",
   "metadata": {},
   "outputs": [
    {
     "data": {
      "image/png": "[encoded data removed]",
      "text/plain": [
       "<Figure size 1800x720 with 1 Axes>"
      ]
     },
     "metadata": {
      "needs_background": "light"
     },
     "output_type": "display_data"
    }
   ],
   "source": [
    "plt.figure(figsize=(25,10)) # change the figure size\n",
    "plt.bar (top10Sales.index, top10Sales.values, color = 'green',width = 0.5)\n",
    "plt.title('Top 10 Sales Countries') # add title to the chart \n",
    "plt.xlabel('Country') # add label for the x axis \n",
    "plt.ylabel('Sales') # add label for the y axis \n",
    "plt.show()"
   ]
  },
  {
   "cell_type": "markdown",
   "id": "d9e5edce-aff5-4e43-acc6-572f9e2e8b6c",
   "metadata": {},
   "source": [
    "2. Write the results to a text file called MM_Rankings.txt."
   ]
  },
  {
   "cell_type": "markdown",
   "id": "5ed73933-2c04-40a3-a3f8-7eedb80b0dd8",
   "metadata": {},
   "source": [
    "1. Be sure to use append so that you can append data rather than writing over top of the previous data \n",
    "2. Include a newline between each append to the file \n",
    "3. When writing to the file, please output in a text form such as: \n",
    "\n",
    "Countries Most Sale Transactions:\n",
    "(Country Name): (number of sales transactions)\n",
    "(Country Name): (number of sales transactions)\n",
    "...\n",
    "(Answer question) \"The country we should build our shipping center is ______ because ____...\"\n"
   ]
  },
  {
   "cell_type": "markdown",
   "id": "e3a19d64-837d-4f9e-9a16-36f93a2d3e98",
   "metadata": {},
   "source": [
    "# 1.2"
   ]
  },
  {
   "cell_type": "markdown",
   "id": "98312590-8813-43fe-ae67-afc802ce3320",
   "metadata": {},
   "source": [
    "Q1.2/Write the results into the file MM_Rankings.txt"
   ]
  },
  {
   "cell_type": "code",
   "execution_count": 253,
   "id": "d8b2780a-2c42-4ba7-9f47-d457ad416e69",
   "metadata": {},
   "outputs": [],
   "source": [
    "#create a new txt file called MM_Ranking\n",
    "with open(\"Data/MM_Ranking.txt\", \"w+\") as writer:\n",
    "    writer.write(\"Countries Most Sale Transactions:\")"
   ]
  },
  {
   "cell_type": "code",
   "execution_count": 254,
   "id": "f2de15e2-5fd1-4196-b560-d4d71778c769",
   "metadata": {},
   "outputs": [],
   "source": [
    "#write the result to MM_Ranking using append \n",
    "with open(\"Data/MM_Ranking.txt\", \"a+\") as writer:\n",
    "        writer.writelines(\"\\nTrinidad and Tobago:321\\nGuinea:318\\nCape Verde:314\\nMaldives:311\\nFinland:310\\nDemocratic Republic of the Congo:308\\nSamoa:306\\nMalta:305\\nChina:303\\nSouth Sudan:302\\n\")\n",
    "        writer.writelines(\"\\nSince Cape Verde has the third highest number of sales and there is not yet a shipping center there, it is the nation in which we need to establish our distribution center.\")"
   ]
  },
  {
   "cell_type": "markdown",
   "id": "296040a3-47ab-49ea-90b3-81ffb00c1080",
   "metadata": {},
   "source": [
    "Question 2: \"Now we will need you to determine how many online and offline orders that our company takes. Also, if you could let us know the count of the different Order Priority types, that would be great. Please show us this in a pie chart format.\"\n"
   ]
  },
  {
   "cell_type": "markdown",
   "id": "37bda81c-b165-4c15-b986-334efbf5653d",
   "metadata": {},
   "source": [
    "1. Determine the count for how many online and offline order we take.\n",
    "2. Determine the count of different Order Priority types.\n",
    "3. Create a pie chart for each showing the differences in values (use Seaborn or Matplotlib).\n",
    "4. Add the results of the sales channel types and the order priorities to the file MM_Rankings.txt.\n",
    "Be sure to use append so that you can append data rather than writing over top of the previous data.\n",
    "Include a newline between each append to the file.\n",
    "When writing to the file, please output in a text form such as: "
   ]
  },
  {
   "cell_type": "markdown",
   "id": "827d1c77-9d63-4bba-9a17-8c7fef7eac90",
   "metadata": {},
   "source": [
    "# 2.1"
   ]
  },
  {
   "cell_type": "markdown",
   "id": "3b281b4e-98da-4e58-8462-689180ccca50",
   "metadata": {
    "tags": []
   },
   "source": [
    "Q2.1/ Determine the count for how many online and offline orders we take."
   ]
  },
  {
   "cell_type": "code",
   "execution_count": 255,
   "id": "e759bf09-ee17-4be0-b3b8-46440fc9b4a2",
   "metadata": {},
   "outputs": [
    {
     "data": {
      "text/html": [
       "<div>\n",
       "<style scoped>\n",
       "    .dataframe tbody tr th:only-of-type {\n",
       "        vertical-align: middle;\n",
       "    }\n",
       "\n",
       "    .dataframe tbody tr th {\n",
       "        vertical-align: top;\n",
       "    }\n",
       "\n",
       "    .dataframe thead th {\n",
       "        text-align: right;\n",
       "    }\n",
       "</style>\n",
       "<table border=\"1\" class=\"dataframe\">\n",
       "  <thead>\n",
       "    <tr style=\"text-align: right;\">\n",
       "      <th></th>\n",
       "      <th>Order ID</th>\n",
       "    </tr>\n",
       "    <tr>\n",
       "      <th>Sales Channel</th>\n",
       "      <th></th>\n",
       "    </tr>\n",
       "  </thead>\n",
       "  <tbody>\n",
       "    <tr>\n",
       "      <th>Offline</th>\n",
       "      <td>19788</td>\n",
       "    </tr>\n",
       "    <tr>\n",
       "      <th>Online</th>\n",
       "      <td>30183</td>\n",
       "    </tr>\n",
       "  </tbody>\n",
       "</table>\n",
       "</div>"
      ],
      "text/plain": [
       "               Order ID\n",
       "Sales Channel          \n",
       "Offline           19788\n",
       "Online            30183"
      ]
     },
     "execution_count": 255,
     "metadata": {},
     "output_type": "execute_result"
    }
   ],
   "source": [
    "# sort and count online and offline order by Order ID \n",
    "OrderTypeCount = MMSales.groupby('Sales Channel').count()[['Order ID']]\n",
    "OrderTypeCount"
   ]
  },
  {
   "cell_type": "markdown",
   "id": "6dc1737b-2406-478a-8474-35f3cf887cdd",
   "metadata": {},
   "source": [
    "# 2.2 "
   ]
  },
  {
   "cell_type": "markdown",
   "id": "1e975cae-0d89-482d-8b29-2f0907c6cfa8",
   "metadata": {},
   "source": [
    "Q2.2/ Determine count of different Order Priority types "
   ]
  },
  {
   "cell_type": "code",
   "execution_count": 256,
   "id": "a92861c2-380e-4b86-8f58-cbda035369a9",
   "metadata": {},
   "outputs": [
    {
     "data": {
      "text/html": [
       "<div>\n",
       "<style scoped>\n",
       "    .dataframe tbody tr th:only-of-type {\n",
       "        vertical-align: middle;\n",
       "    }\n",
       "\n",
       "    .dataframe tbody tr th {\n",
       "        vertical-align: top;\n",
       "    }\n",
       "\n",
       "    .dataframe thead th {\n",
       "        text-align: right;\n",
       "    }\n",
       "</style>\n",
       "<table border=\"1\" class=\"dataframe\">\n",
       "  <thead>\n",
       "    <tr style=\"text-align: right;\">\n",
       "      <th></th>\n",
       "      <th>Order ID</th>\n",
       "    </tr>\n",
       "    <tr>\n",
       "      <th>Order Priority</th>\n",
       "      <th></th>\n",
       "    </tr>\n",
       "  </thead>\n",
       "  <tbody>\n",
       "    <tr>\n",
       "      <th>C</th>\n",
       "      <td>5012</td>\n",
       "    </tr>\n",
       "    <tr>\n",
       "      <th>H</th>\n",
       "      <td>15094</td>\n",
       "    </tr>\n",
       "    <tr>\n",
       "      <th>L</th>\n",
       "      <td>9984</td>\n",
       "    </tr>\n",
       "    <tr>\n",
       "      <th>M</th>\n",
       "      <td>19881</td>\n",
       "    </tr>\n",
       "  </tbody>\n",
       "</table>\n",
       "</div>"
      ],
      "text/plain": [
       "                Order ID\n",
       "Order Priority          \n",
       "C                   5012\n",
       "H                  15094\n",
       "L                   9984\n",
       "M                  19881"
      ]
     },
     "execution_count": 256,
     "metadata": {},
     "output_type": "execute_result"
    }
   ],
   "source": [
    "# sort and count order priorities by Order ID \n",
    "OrderPriorityTypes = MMSales.groupby('Order Priority').count()[['Order ID']]\n",
    "OrderPriorityTypes"
   ]
  },
  {
   "cell_type": "markdown",
   "id": "d3d746dc-d7d2-4bba-a17c-7a4bd834dffe",
   "metadata": {},
   "source": [
    "# 2.3"
   ]
  },
  {
   "cell_type": "markdown",
   "id": "3ab8f8bb-81fd-45ae-9434-5f7678178e50",
   "metadata": {},
   "source": [
    "Q2.3/ Create a pie chart for each showing the differences in values (use Seaborn or Matplotlib).\n"
   ]
  },
  {
   "cell_type": "code",
   "execution_count": 257,
   "id": "a62e0873-1467-4228-96ef-94238df91201",
   "metadata": {},
   "outputs": [
    {
     "name": "stdout",
     "output_type": "stream",
     "text": [
      "  Sales Channel  Number of Sales\n",
      "0       Offline            19788\n",
      "1        Online            30183\n"
     ]
    }
   ],
   "source": [
    "#create a data frame from the Sales Channels sorting result to plot \n",
    "saledf=pd.DataFrame([['Offline',19788],['Online',30183]],columns=['Sales Channel', 'Number of Sales'])\n",
    "print(saledf)"
   ]
  },
  {
   "cell_type": "code",
   "execution_count": 258,
   "id": "eb054a88-2126-490a-8278-a851dfdc1e17",
   "metadata": {},
   "outputs": [
    {
     "data": {
      "image/png": "[encoded data removed]",
      "text/plain": [
       "<Figure size 720x1080 with 1 Axes>"
      ]
     },
     "metadata": {},
     "output_type": "display_data"
    }
   ],
   "source": [
    "#plot a pie chart based on the above data frame\n",
    "sales_channel = saledf['Sales Channel']\n",
    "number_of_sales = saledf[\"Number of Sales\"]\n",
    "plt.figure(figsize=(10, 15)) \n",
    "plt.pie(number_of_sales, labels=sales_channel, autopct='%.2f') # set display 2 decimals after\n",
    "plt.legend(loc=2, title='Sales Channel')\n",
    "plt.title(\"Online and Offline of Sales Channels\")\n",
    "plt.show()"
   ]
  },
  {
   "cell_type": "code",
   "execution_count": 259,
   "id": "4571104e-25c8-4f6f-a7ce-37c7f092842e",
   "metadata": {},
   "outputs": [
    {
     "name": "stdout",
     "output_type": "stream",
     "text": [
      "  Order Priority  Number of Sales\n",
      "0              C             5012\n",
      "1              H            15094\n",
      "2              L             9984\n",
      "3              M            19881\n"
     ]
    }
   ],
   "source": [
    "#create a data frame from the Order Priority sorting result to plot\n",
    "orderDf=pd.DataFrame([['C',5012],['H',15094],['L',9984],['M',19881]],columns=['Order Priority', 'Number of Sales'])\n",
    "print(orderDf)"
   ]
  },
  {
   "cell_type": "code",
   "execution_count": 260,
   "id": "66cd8c19-b59b-4ded-bd59-0f692d55c68d",
   "metadata": {},
   "outputs": [
    {
     "data": {
      "image/png": "[encoded data removed]",
      "text/plain": [
       "<Figure size 1080x1080 with 1 Axes>"
      ]
     },
     "metadata": {},
     "output_type": "display_data"
    }
   ],
   "source": [
    "#plot a pie chart based on the above data frame\n",
    "order_prior = orderDf[\"Order Priority\"]\n",
    "number_of_sales = orderDf[\"Number of Sales\"]\n",
    "plt.figure(figsize=(15, 15)) \n",
    "plt.pie(number_of_sales, labels=order_prior, #set autopct to display the value with 2 decimal place\n",
    "autopct='%.2f', startangle=150)\n",
    "plt.legend(loc=2, title=\"Order Priority\")\n",
    "plt.title(\"Order Priority Take-Up\")\n",
    "plt.show()"
   ]
  },
  {
   "cell_type": "markdown",
   "id": "0f7673ab-ab12-4861-9208-04f369694841",
   "metadata": {},
   "source": [
    "# 2.4"
   ]
  },
  {
   "cell_type": "markdown",
   "id": "5d3c59aa-bf84-48ba-9b44-621c155ec645",
   "metadata": {},
   "source": [
    "Q2.4/ Add the results of the highest sales channel type and the highest order priority to the file\n",
    "MM_Rankings.txt"
   ]
  },
  {
   "cell_type": "code",
   "execution_count": 261,
   "id": "6bf7227a-579d-4785-9043-7f0fb4073990",
   "metadata": {},
   "outputs": [],
   "source": [
    "#write the result of Sales Channels to MM_Ranking\n",
    "with open(\"Data/MM_Ranking.txt\", \"a+\") as writer:\n",
    "        writer.writelines(\"\\nSales Channels:\\n\")\n",
    "        writer.writelines(\"\\nOnline:30183\\nOffline:19788\")\n",
    "        writer.writelines(\"\\nWe do more Online sales.\\n\")"
   ]
  },
  {
   "cell_type": "code",
   "execution_count": 262,
   "id": "4a285fd4-fa15-427c-8764-efd222750b43",
   "metadata": {},
   "outputs": [],
   "source": [
    "##write the result of Order Priorities to MM_Ranking\n",
    "with open(\"Data/MM_Ranking.txt\", \"a+\") as writer:\n",
    "        writer.writelines(\"\\nOrder Prorities:\")\n",
    "        writer.writelines(\"\\nL:9984\\nM:19881\\nH:15094\\nC:5012\")\n",
    "        writer.writelines(\"\\nWe do more M priorities.\\n\")\n",
    "        "
   ]
  },
  {
   "cell_type": "markdown",
   "id": "cb283fb1-f36f-4f8c-95ad-083e96e9b6dc",
   "metadata": {},
   "source": [
    "Question 3: \"For our next section, we will need you to give us an idea of how well our Item Types are producing profits for us. At the end, report to us which 3 item types are providing the most profit.\"\n",
    "\n",
    "1. Create a Boxplot using Seaborn showing the Total Profits DISTRIBUTION by Item Type.\n",
    "2. Use Python to determine the sum of Total Profit by Item Type.\n",
    "3. Now create a chart type of your choice (Seaborn or Matplotlib) showing the sums of the different Item Types.\n",
    "4. Now, using Python, rank the top 3 item types we did the most sales (brought in most profit) in to the least sales. (Use 'Total Profit' to determine this).  Please list the item types and the amount of profit made from sales.\n",
    "5. Add the results of the top 3 item types to the file MM_Rankings.txt.\n",
    "Be sure to use append so that you can append data rather than writing over top of the previous data.\n",
    "Include a newline between each append to the file.\n",
    "When writing to the file, please output in a text form such as: \n",
    "6. Provide a markdown section discussing the results of the boxplots. Discuss what is being shown in the boxplots amd do some business analytics around what sort of use this sort of chart might help in making decisions. Are there any unexpected results? Discuss them."
   ]
  },
  {
   "cell_type": "markdown",
   "id": "243642c6-f8a1-456a-9a51-cec9c41c5392",
   "metadata": {},
   "source": [
    "# 3.1"
   ]
  },
  {
   "cell_type": "markdown",
   "id": "94d7a075-0b75-4f70-ad3b-193f7099bf23",
   "metadata": {},
   "source": [
    "Q3.1/ Create a Boxplot using Seaborn showing the Total Profits DISTRIBUTION by Item Type.\n"
   ]
  },
  {
   "cell_type": "code",
   "execution_count": 263,
   "id": "ff878b75-fe19-4ed8-bd67-cb97c928b3c0",
   "metadata": {},
   "outputs": [
    {
     "data": {
      "image/png": "[encoded data removed]",
      "text/plain": [
       "<Figure size 1080x720 with 1 Axes>"
      ]
     },
     "metadata": {
      "needs_background": "light"
     },
     "output_type": "display_data"
    }
   ],
   "source": [
    "#Create a Boxplot using Seaborn showing the Total Profits DISTRIBUTION by Item Type.\n",
    "plt.figure(figsize=(15,10))\n",
    "ax=sns.boxplot(x=\"Item Type\", y=\"Total Profit\", data=MMSales)"
   ]
  },
  {
   "cell_type": "markdown",
   "id": "741841ad-3e2f-499b-91b9-4eb0d9dd8a0c",
   "metadata": {},
   "source": [
    "# 3.2"
   ]
  },
  {
   "cell_type": "markdown",
   "id": "f25e0de6-96ed-4368-942e-104917169611",
   "metadata": {},
   "source": [
    "Q3.2/ Use Python to determine the sum of Total Profit by Item Type"
   ]
  },
  {
   "cell_type": "code",
   "execution_count": 264,
   "id": "65026153-a8bd-4787-8203-36fdf2eab70b",
   "metadata": {},
   "outputs": [
    {
     "name": "stdout",
     "output_type": "stream",
     "text": [
      "                  Total Profit\n",
      "Item Type                     \n",
      "Baby Food       1942865748.120\n",
      "Beverages        327559249.080\n",
      "Cereal          1824726412.290\n",
      "Clothes         1520832019.680\n",
      "Cosmetics       3638407966.750\n",
      "Fruits            51010570.920\n",
      "Household       3401180998.060\n",
      "Meat            1196342404.400\n",
      "Office Supplies 2605440187.500\n",
      "Personal Care    535250525.600\n",
      "Snacks          1149715758.720\n",
      "Vegetables      1322639660.240\n"
     ]
    }
   ],
   "source": [
    "#group the item type then find the sum of Total Profit\n",
    "TotalProfit = MMSales.groupby('Item Type').sum()[['Total Profit']]\n",
    "print(TotalProfit)"
   ]
  },
  {
   "cell_type": "markdown",
   "id": "2524aeb5-9d88-40d1-810c-0b4fdd45caa6",
   "metadata": {},
   "source": [
    "# 3.3"
   ]
  },
  {
   "cell_type": "markdown",
   "id": "d3ebcfdb-d6a8-4176-b43e-4d6444e814fe",
   "metadata": {},
   "source": [
    "Q3.3/ Now create a chart type of your choice (Seaborn or Matplotlib) showing the sums of the different Item Types."
   ]
  },
  {
   "cell_type": "code",
   "execution_count": 265,
   "id": "e15b5f27-7307-467f-b46a-29fc86205d69",
   "metadata": {},
   "outputs": [
    {
     "name": "stdout",
     "output_type": "stream",
     "text": [
      "         Item Types  Sum Of Total Profit\n",
      "0         Baby Food       1942865748.120\n",
      "1         Beverages        327559249.080\n",
      "2            Cereal       1824726412.290\n",
      "3           Clothes       1520832019.680\n",
      "4        Cosmestics       3638407966.750\n",
      "5            Fruits         51010570.920\n",
      "6         Household       3401180998.060\n",
      "7              Meat       1196342404.400\n",
      "8   Office Supplies       2605440187.500\n",
      "9     Personal Care        535250525.600\n",
      "10           Snacks       1149715758.720\n",
      "11       Vegetables       1322639660.240\n"
     ]
    }
   ],
   "source": [
    "#create a dictionary from the above result\n",
    "ByType={'Item Types':['Baby Food','Beverages','Cereal','Clothes','Cosmestics',\n",
    "        'Fruits','Household','Meat','Office Supplies',\n",
    "        'Personal Care','Snacks','Vegetables'],'Sum Of Total Profit':[1942865748.120, 327559249.080, 1824726412.290, 1520832019.680,\n",
    "                3638407966.750, 51010570.920, 3401180998.060, 1196342404.400,\n",
    "                2605440187.500, 535250525.600, 1149715758.720, 1322639660.240]}\n",
    " #create a data frame from the dictionary         \n",
    "byType=pd.DataFrame(ByType,columns=['Item Types','Sum Of Total Profit'])\n",
    "print(byType)"
   ]
  },
  {
   "cell_type": "code",
   "execution_count": 266,
   "id": "adc6e94e-3ab5-4dc6-9fc1-b05a82285edd",
   "metadata": {},
   "outputs": [
    {
     "data": {
      "image/png": "[encoded data removed]",
      "text/plain": [
       "<Figure size 1080x720 with 1 Axes>"
      ]
     },
     "metadata": {
      "needs_background": "light"
     },
     "output_type": "display_data"
    }
   ],
   "source": [
    "#plot a bar chart showing the sums of the different Item Types\n",
    "x=byType['Item Types'] #assign Item Types as variable x\n",
    "y=byType['Sum Of Total Profit']#assign Sum Of Total Profit as variable y\n",
    "plt.figure(figsize=(15, 10)) #set a figure size\n",
    "plt.title('Total Profits by Item Type') #add title\n",
    "plt.xlabel('Item Types') #add label for x axis\n",
    "plt.ylabel('Sum Of Total Profit') #add label for y axis\n",
    "plt.bar(x, y, color = 'green') #select type of visualization\n",
    "plt.show()"
   ]
  },
  {
   "cell_type": "markdown",
   "id": "e7df2bf4-ba44-4a46-9201-f3fe71b0c315",
   "metadata": {},
   "source": [
    "# 3.4"
   ]
  },
  {
   "cell_type": "markdown",
   "id": "e9681ee2-12db-4d5e-9835-b65ac563d4a0",
   "metadata": {},
   "source": [
    "Q3.4/ Now, using Python, rank the top 3 item types we did the most sales (brought in most profit) in to the least sales. (Use 'Total Profit' to determine this). Please list the item types and the amount of profit made from sales.\n",
    "\n"
   ]
  },
  {
   "cell_type": "code",
   "execution_count": 267,
   "id": "848191e2-c2ca-4dee-9710-a7c9092af036",
   "metadata": {},
   "outputs": [
    {
     "name": "stdout",
     "output_type": "stream",
     "text": [
      "                 Sum Of Total Profit\n",
      "Item Types                          \n",
      "Cosmestics            3638407966.750\n",
      "Household             3401180998.060\n",
      "Office Supplies       2605440187.500\n"
     ]
    }
   ],
   "source": [
    "#using nlargest to get the top 3 largest Sum of Total Profit\n",
    "Top3 = byType.groupby('Item Types').sum()[['Sum Of Total Profit']].nlargest(3, 'Sum Of Total Profit') \n",
    "Rank = pd.DataFrame(Top3)\n",
    "print(Rank)"
   ]
  },
  {
   "cell_type": "markdown",
   "id": "7b262718-6ee5-4539-bb23-2a1cbc4adc58",
   "metadata": {},
   "source": [
    "# 3.5"
   ]
  },
  {
   "cell_type": "markdown",
   "id": "470675b8-14a6-4986-be33-418e52b4dee9",
   "metadata": {},
   "source": [
    "Q3.5/ Add the results of the top 3 item types to the file MM_Rankings.txt.\n",
    "\n"
   ]
  },
  {
   "cell_type": "code",
   "execution_count": 268,
   "id": "2a533a6e-2c4c-4cae-8d70-c0fd1c8b3771",
   "metadata": {},
   "outputs": [],
   "source": [
    "#write the results to MM_Rankings\n",
    "with open(\"Data/MM_Ranking.txt\", \"a+\") as writer:\n",
    "        writer.writelines(\"\\nHighest Selling Items:\")\n",
    "        writer.writelines(\"\\nCosmestics:3638407966.750\\nHousehold:3401180998.060\\nOffice Supplies: 2605440187.500\")\n",
    "        writer.writelines(\"\\nWe profited from Cosmetic the most.\")"
   ]
  },
  {
   "cell_type": "markdown",
   "id": "d5e75c50-53c7-47fe-b0c8-8c59b3a693f3",
   "metadata": {},
   "source": [
    "# 3.6"
   ]
  },
  {
   "cell_type": "markdown",
   "id": "cedfbdb8-15be-4d08-a502-42fd29285af7",
   "metadata": {},
   "source": [
    "Q3.6/ Provide a markdown section discussing the results of the boxplots. Discuss what is being shown in the boxplots amd do some business analytics around what sort of use this sort of chart might help in making decisions. Are there any unexpected results? Discuss them."
   ]
  },
  {
   "cell_type": "markdown",
   "id": "fd87d799-289e-4c64-be12-30802d9f6354",
   "metadata": {},
   "source": [
    "The boxplot revealed no extreme values or outliers. It's fair to infer that the figures for specific item kinds' profitability aren't too far off. Cosmetic is the most profitable item kind, whereas Fruits is the least profitable item type. Every single boxplot exhibits a declining trend."
   ]
  },
  {
   "cell_type": "markdown",
   "id": "26117b2e-00b1-4c64-b163-ce3e2287b5bb",
   "metadata": {},
   "source": [
    "Question 4: \"Finally, we need you to determine some descriptive statistics for us. Please determine the sum, average and maximum values for the Units Sold, Unit Cost, Total Revenue, Total Cost and Total Profit. Please put this in a report.\"\n",
    "\n",
    "1. Produce the data above for the sum of the requested columns.\n",
    "2. Produce the data above for the average of the requested columns. (Average Units Sold, Average Cost, etc)\n",
    "3. Produce the data above for the maximum of the requested columns. (Max Units Sold, Max Cost, etc.)\n",
    "4. Create two line plots using Seaborn or Matplotlib, one for the sums and one for both the averages and the maximums. DO NOT INCLUDE UNITS SOLD OR UNITS COST.\n",
    "5. Now you will save these calculations below to a text file called MM_Calc.txt. When writing to the file, please output format such as:\n"
   ]
  },
  {
   "cell_type": "markdown",
   "id": "0c31142e-3c30-4e3c-b095-2b3575b22796",
   "metadata": {},
   "source": [
    "# 4.1"
   ]
  },
  {
   "cell_type": "markdown",
   "id": "c480c9fc-50fd-4cde-a450-bb497f196b42",
   "metadata": {},
   "source": [
    "Q4.1/ Product the data above for the sum of the requested columns"
   ]
  },
  {
   "cell_type": "code",
   "execution_count": 269,
   "id": "c52ca187-f596-4788-876e-fb7d0f57a3c5",
   "metadata": {},
   "outputs": [
    {
     "data": {
      "text/plain": [
       "Units Sold        249818150.000\n",
       "Unit Cost           9360768.320\n",
       "Total Revenue   66145004417.170\n",
       "Total Cost      46629032915.810\n",
       "Total Profit    19515971501.360\n",
       "dtype: float64"
      ]
     },
     "execution_count": 269,
     "metadata": {},
     "output_type": "execute_result"
    }
   ],
   "source": [
    "#calculate the SUM of each requested columns, print and round the result to 3 decimal places\n",
    "Value= ['Units Sold', 'Unit Cost', 'Total Revenue', 'Total Cost', 'Total Profit']\n",
    "Sum = MMSales[Value].sum()\n",
    "Sum"
   ]
  },
  {
   "cell_type": "markdown",
   "id": "61ac340d-ca00-4fe0-9ab3-6bb8dcd11f67",
   "metadata": {},
   "source": [
    "# 4.2"
   ]
  },
  {
   "cell_type": "markdown",
   "id": "8ad202c6-6958-4af0-af71-4353970b50d6",
   "metadata": {},
   "source": [
    "Q4.2/ Produce the data above for the average of the requested columns. (Average Units Sold, Average Cost, etc)"
   ]
  },
  {
   "cell_type": "code",
   "execution_count": 270,
   "id": "029d21e7-5170-4815-a860-6161a219a08f",
   "metadata": {},
   "outputs": [
    {
     "data": {
      "text/plain": [
       "Units Sold         4999.263\n",
       "Unit Cost           187.324\n",
       "Total Revenue   1323667.816\n",
       "Total Cost       933121.869\n",
       "Total Profit     390545.947\n",
       "dtype: float64"
      ]
     },
     "execution_count": 270,
     "metadata": {},
     "output_type": "execute_result"
    }
   ],
   "source": [
    "# We are returning the average of Units Sold, Unit Cost, Total Revenue, Total Cost and Total Profit\n",
    "Avg = MMSales[Value].mean()\n",
    "Avg"
   ]
  },
  {
   "cell_type": "markdown",
   "id": "2d666c94-31d1-4936-9c8c-ab8422eb71d5",
   "metadata": {},
   "source": [
    "# 4.3"
   ]
  },
  {
   "cell_type": "markdown",
   "id": "fd4fb0b8-6c75-40ba-9fbd-75c5b50cc36d",
   "metadata": {},
   "source": [
    "Q4.3/ Produce the data above for the maximum of the requested columns. (Max Units Sold, Max Cost, etc.)"
   ]
  },
  {
   "cell_type": "code",
   "execution_count": 271,
   "id": "049ff5c4-917e-4682-ac57-68b59af7af65",
   "metadata": {},
   "outputs": [
    {
     "data": {
      "text/plain": [
       "Units Sold        10000.000\n",
       "Unit Cost           524.960\n",
       "Total Revenue   6682031.730\n",
       "Total Cost      5249075.040\n",
       "Total Profit    1738178.390\n",
       "dtype: float64"
      ]
     },
     "execution_count": 271,
     "metadata": {},
     "output_type": "execute_result"
    }
   ],
   "source": [
    "# We are returning the maximum of Units Sold, Unit Cost, Total Revenue, Total Cost and Total Profit\n",
    "\n",
    "Max = MMSales[Value].max()\n",
    "Max"
   ]
  },
  {
   "cell_type": "markdown",
   "id": "f983b142-4c8e-49fa-95d5-b120b2d0e1cf",
   "metadata": {},
   "source": [
    "# 4.4"
   ]
  },
  {
   "cell_type": "markdown",
   "id": "dbb77ad4-e48e-4741-8a88-b7c488f6d365",
   "metadata": {},
   "source": [
    "Q4.4/ Create two line plots using Seaborn or Matplotlib, one for the sums and one for both the averages and the maximums. DO NOT INCLUDE UNITS SOLD OR UNITS COST.\n"
   ]
  },
  {
   "cell_type": "code",
   "execution_count": 272,
   "id": "a70bc69f-00bd-4817-9fd4-27a6c37812d5",
   "metadata": {},
   "outputs": [
    {
     "data": {
      "text/html": [
       "<div>\n",
       "<style scoped>\n",
       "    .dataframe tbody tr th:only-of-type {\n",
       "        vertical-align: middle;\n",
       "    }\n",
       "\n",
       "    .dataframe tbody tr th {\n",
       "        vertical-align: top;\n",
       "    }\n",
       "\n",
       "    .dataframe thead th {\n",
       "        text-align: right;\n",
       "    }\n",
       "</style>\n",
       "<table border=\"1\" class=\"dataframe\">\n",
       "  <thead>\n",
       "    <tr style=\"text-align: right;\">\n",
       "      <th></th>\n",
       "      <th>Stat</th>\n",
       "      <th>Total</th>\n",
       "    </tr>\n",
       "  </thead>\n",
       "  <tbody>\n",
       "    <tr>\n",
       "      <th>0</th>\n",
       "      <td>Total Revenue</td>\n",
       "      <td>66145004417.170</td>\n",
       "    </tr>\n",
       "    <tr>\n",
       "      <th>1</th>\n",
       "      <td>Total Cost</td>\n",
       "      <td>46629032915.810</td>\n",
       "    </tr>\n",
       "    <tr>\n",
       "      <th>2</th>\n",
       "      <td>Total Profit</td>\n",
       "      <td>19515971501.360</td>\n",
       "    </tr>\n",
       "  </tbody>\n",
       "</table>\n",
       "</div>"
      ],
      "text/plain": [
       "             Stat           Total\n",
       "0  Total Revenue  66145004417.170\n",
       "1      Total Cost 46629032915.810\n",
       "2    Total Profit 19515971501.360"
      ]
     },
     "execution_count": 272,
     "metadata": {},
     "output_type": "execute_result"
    }
   ],
   "source": [
    "#create a data frame from the SUM calculation to plot\n",
    "sumval=pd.DataFrame([['Total Revenue ',66145004417.17],['Total Cost',46629032915.81],['Total Profit',19515971501.36]],columns=['Stat', 'Total'])\n",
    "sumval"
   ]
  },
  {
   "cell_type": "code",
   "execution_count": 273,
   "id": "8d9c78f2-4af4-45a2-8ddf-6862d8a76e08",
   "metadata": {},
   "outputs": [
    {
     "data": {
      "image/png": "[encoded data removed]",
      "text/plain": [
       "<Figure size 432x288 with 1 Axes>"
      ]
     },
     "metadata": {
      "needs_background": "light"
     },
     "output_type": "display_data"
    }
   ],
   "source": [
    "#create a line plot for the sum\n",
    "sns.lineplot(x=\"Stat\", y=\"Total\", data=sumval) \n",
    "plt.title('Sum of Total Revenue, Total Cost and Total Profit')\n",
    "plt.show()"
   ]
  },
  {
   "cell_type": "code",
   "execution_count": 274,
   "id": "a82f0689-65cb-4cca-b03e-b41133925f99",
   "metadata": {},
   "outputs": [
    {
     "name": "stdout",
     "output_type": "stream",
     "text": [
      "                  Average     Maximum\n",
      "Total Revenue 1323667.810 6682031.730\n",
      "Total Cost     933121.869 5249075.040\n",
      "Total Profit   390545.947 1738178.390\n"
     ]
    }
   ],
   "source": [
    "#create a data from the Average and Max calculation to plot a graph for both the averages and the maximums.\n",
    "\n",
    "average_max = pd.DataFrame({\n",
    "    'Average': [1323667.810, 933121.869, 390545.947],\n",
    "    'Maximum': [6682031.73, 5249075.04, 1738178.39],\n",
    "   }, index=['Total Revenue', 'Total Cost', 'Total Profit'])\n",
    "print(average_max)"
   ]
  },
  {
   "cell_type": "code",
   "execution_count": 275,
   "id": "b78ca292-e864-4977-9394-83e5ee523e5f",
   "metadata": {},
   "outputs": [
    {
     "data": {
      "text/plain": [
       "Text(0.5, 1.0, 'Total of Averages VS Maximum')"
      ]
     },
     "execution_count": 275,
     "metadata": {},
     "output_type": "execute_result"
    },
    {
     "data": {
      "image/png": "[encoded data removed]",
      "text/plain": [
       "<Figure size 432x288 with 1 Axes>"
      ]
     },
     "metadata": {
      "needs_background": "light"
     },
     "output_type": "display_data"
    }
   ],
   "source": [
    "# Create two line plots from the above data frame.\n",
    "fig = average_max.plot.line()\n",
    "plt.title('Total of Averages VS Maximum')"
   ]
  },
  {
   "cell_type": "markdown",
   "id": "d999d4f4-d920-4c42-868b-0402bc2f1f74",
   "metadata": {},
   "source": [
    "# 4.5"
   ]
  },
  {
   "cell_type": "markdown",
   "id": "e1bbcf57-5897-413a-b963-9cedf2ef1935",
   "metadata": {},
   "source": [
    "Q4.5/ Now you will save these calculations below to a text file called MM_Calc.txt. When writing to the file, please output format such as:"
   ]
  },
  {
   "cell_type": "code",
   "execution_count": 276,
   "id": "2a3aff0d-fe52-494e-8e97-194a03801b28",
   "metadata": {},
   "outputs": [],
   "source": [
    "#create a new txt file named MM_Calc.txt\n",
    "\n",
    "with open(\"Data/MM_Calc.txt\", \"w+\") as writer:\n",
    "    writer.write('Sums:\\n')\n",
    "    for k,v in Sum.items():\n",
    "        writer.write(f\"{k}: {v}\\n\")\n",
    "    \n",
    "    writer.write('\\nAverages:\\n')\n",
    "    for k,v in Avg.items():\n",
    "        writer.write(f\"{k}: {v}\\n\")\n",
    "        \n",
    "    writer.write('\\nMaximums:\\n')\n",
    "    for k,v in Max.items():\n",
    "        writer.write(f\"{k}: {v}\\n\")"
   ]
  },
  {
   "cell_type": "markdown",
   "id": "0a713756-5203-4ede-8d06-ca0276d9ed51",
   "metadata": {},
   "source": [
    "# Part 3: Cross-Reference Statistics"
   ]
  },
  {
   "cell_type": "markdown",
   "id": "7dd29f67-68f2-4792-baff-694bd77e2a1b",
   "metadata": {},
   "source": [
    "\"We are in desperate need of a concise list of the Regions we sell to with the Countries that are located in each one.\"\n",
    "\n",
    "For this part you will be cross-referencing the data in the CSV file and the getting an output and writing it to a new CSV file. "
   ]
  },
  {
   "cell_type": "markdown",
   "id": "1dfd5013-6a08-4160-a488-966d70875244",
   "metadata": {},
   "source": [
    "1. Please get a list of the Regions and then the countries we sell to in that region. Please be sure no duplicates Regions or countries exist.\n",
    "    1. (Does not have to be done this way)\n",
    "        1. Non-pandas Solution advice: Please return this as a dictionary of lists with the keys of the dictionary being the name of each Region and the list attached to that being all the countries we sell to for that region. You may also return it as a Series of Lists (although I found that to be harder).\n",
    "\n",
    "        2. Finally, if you want to use an alternate method with pandas Dataframes, that will be accepted as well. Be sure your output is easy to read and your code makes sense."
   ]
  },
  {
   "cell_type": "markdown",
   "id": "075c6cef-fea1-4805-83fa-5a9fb6955a6f",
   "metadata": {},
   "source": [
    "# 1.1"
   ]
  },
  {
   "cell_type": "code",
   "execution_count": 277,
   "id": "1c83de90-afe9-451d-bb06-ee2668f55415",
   "metadata": {},
   "outputs": [
    {
     "name": "stdout",
     "output_type": "stream",
     "text": [
      "{'Asia': ['Indonesia', 'India', 'South Korea', 'Kazakhstan', 'Mongolia', 'Malaysia', 'Singapore', 'Brunei', 'Kyrgyzstan', 'Taiwan', 'Sri Lanka', 'North Korea', 'Cambodia', 'Tajikistan', 'Turkmenistan', 'Maldives', 'Laos', 'Myanmar', 'Bhutan', 'Vietnam', 'Japan', 'Philippines', 'China', 'Bangladesh', 'Uzbekistan', 'Thailand', 'Nepal'], 'Australia and Oceania': ['Tuvalu', 'Samoa ', 'Fiji', 'Marshall Islands', 'New Zealand', 'Solomon Islands', 'Vanuatu', 'Australia', 'Papua New Guinea', 'Nauru', 'Kiribati', 'Tonga', 'Palau', 'East Timor', 'Federated States of Micronesia'], 'Central America and the Caribbean': ['Antigua and Barbuda ', 'Saint Kitts and Nevis ', 'Saint Lucia', 'Trinidad and Tobago', 'Guatemala', 'Saint Vincent and the Grenadines', 'Jamaica', 'Grenada', 'Honduras', 'Belize', 'Barbados', 'El Salvador', 'Dominican Republic', 'The Bahamas', 'Cuba', 'Nicaragua', 'Costa Rica', 'Panama', 'Dominica', 'Haiti'], 'Europe': ['Iceland', 'Russia', 'Moldova ', 'Malta', 'Greece', 'Ukraine', 'Finland', 'United Kingdom', 'San Marino', 'Kosovo', 'Hungary', 'Serbia', 'Poland', 'Lithuania', 'Portugal', 'Georgia', 'Bulgaria', 'Austria', 'Romania', 'Denmark', 'Luxembourg', 'Croatia', 'Sweden', 'Cyprus', 'Montenegro', 'Vatican City', 'France', 'Netherlands', 'Estonia', 'Bosnia and Herzegovina', 'Monaco', 'Germany', 'Slovenia', 'Ireland', 'Latvia', 'Belgium', 'Switzerland', 'Italy', 'Belarus', 'Czech Republic', 'Liechtenstein', 'Macedonia', 'Slovakia', 'Spain', 'Andorra', 'Albania', 'Norway', 'Armenia'], 'Middle East and North Africa': ['Turkey', 'Iraq', 'Kuwait', 'Tunisia ', 'Yemen', 'United Arab Emirates', 'Bahrain', 'Pakistan', 'Lebanon', 'Somalia', 'Egypt', 'Iran', 'Jordan', 'Syria', 'Morocco', 'Afghanistan', 'Azerbaijan', 'Saudi Arabia', 'Libya', 'Algeria', 'Oman', 'Israel', 'Qatar'], 'North America': ['Greenland', 'United States of America', 'Canada', 'Mexico'], 'Sub-Saharan Africa': ['Namibia', 'Djibouti', 'Cameroon', 'Nigeria', 'Senegal', 'Rwanda', 'South Sudan', 'Guinea', 'Botswana', 'Sudan', 'Tanzania', 'Sao Tome and Principe', 'Cape Verde', 'Guinea-Bissau', 'South Africa', 'Sierra Leone', 'Mozambique', 'Chad', 'Togo', 'Mali', 'Equatorial Guinea', 'Eritrea', 'Niger', 'Madagascar', 'Gabon', 'Angola', 'Ethiopia', 'Liberia', 'Democratic Republic of the Congo', 'Seychelles ', 'Mauritius ', 'Comoros', 'Burundi', 'Zambia', 'Lesotho', 'The Gambia', 'Benin', 'Malawi', 'Mauritania', 'Central African Republic', 'Kenya', 'Ghana', 'Swaziland', 'Burkina Faso', 'Uganda', 'Zimbabwe', \"Cote d'Ivoire\", 'Republic of the Congo']}\n"
     ]
    }
   ],
   "source": [
    "#Make a Dictionary with unique Countries Classified According to Their Region\n",
    "regCountry = MMSales.groupby(['Region'])['Country'].unique().apply(list).to_dict() \n",
    "print(regCountry)"
   ]
  },
  {
   "cell_type": "markdown",
   "id": "eec33fef-2175-41eb-95af-ed7c497c4091",
   "metadata": {},
   "source": [
    "2. Write this out to a CSV file called Countries_By_Region.csv.\n",
    "\n",
    "    1. (Be careful here as there is a header row when you convert the csv to a dictionary. If you end up getting the header row in your final result, just remove it. You are free to do it however you want as long as in the end its a dictionary of lists (or Series of Lists), the keys being the Regions and then the list for that key being the countries that is sold to, with no duplicates. And then print it to the csv file.)\n",
    "   \n",
    "    \n",
    "     Your CSV file should look like below. Order of Regions and Countries is unimportant but structure should be the same. Here are the counts for the countries by Region:\n",
    "\n",
    "    North America: 4, Europe: 48, Asia: 27, Australia & Oceania: 15, Central America & The Carribean: 20, Sub-Saharan Africa: 48, Middle East and North Africa: 23\n",
    "\n"
   ]
  },
  {
   "cell_type": "markdown",
   "id": "c5812ebb-b849-4896-b488-4526d9e100a4",
   "metadata": {},
   "source": [
    "# 1.2"
   ]
  },
  {
   "cell_type": "code",
   "execution_count": 278,
   "id": "d3f50801-0860-4f70-86e4-63a0441fce96",
   "metadata": {},
   "outputs": [],
   "source": [
    "regionCountry = pd.DataFrame.from_dict(regCountry, orient='index').transpose()\n",
    "regionCountry.to_csv(\"Data/Countries_By_Region.csv\",index=False)"
   ]
  },
  {
   "cell_type": "code",
   "execution_count": null,
   "id": "0ca3d63a-6767-4530-8f4b-e2ccc9ecbd0a",
   "metadata": {},
   "outputs": [],
   "source": []
  }
 ],
 "metadata": {
  "kernelspec": {
   "display_name": "Python 3 (ipykernel)",
   "language": "python",
   "name": "python3"
  },
  "language_info": {
   "codemirror_mode": {
    "name": "ipython",
    "version": 3
   },
   "file_extension": ".py",
   "mimetype": "text/x-python",
   "name": "python",
   "nbconvert_exporter": "python",
   "pygments_lexer": "ipython3",
   "version": "3.9.12"
  }
 },
 "nbformat": 4,
 "nbformat_minor": 5
}
